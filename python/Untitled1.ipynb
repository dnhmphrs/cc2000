{
 "cells": [
  {
   "cell_type": "code",
   "execution_count": null,
   "metadata": {},
   "outputs": [],
   "source": [
    "import billboard\n",
    "import requests"
   ]
  },
  {
   "cell_type": "code",
   "execution_count": 49,
   "metadata": {},
   "outputs": [
    {
     "data": {
      "text/plain": [
       "[billboard.ChartEntry(title='This Is How We Do It', artist='Montell Jordan'),\n",
       " billboard.ChartEntry(title='Have You Ever Really Loved A Woman?', artist='Bryan Adams'),\n",
       " billboard.ChartEntry(title='Freak Like Me', artist='Adina Howard'),\n",
       " billboard.ChartEntry(title=\"I'll Be There For You/You're All I Need To Get By\", artist='Method Man Featuring Mary J. Blige'),\n",
       " billboard.ChartEntry(title='I Know', artist='Dionne Farris'),\n",
       " billboard.ChartEntry(title='Water Runs Dry', artist='Boyz II Men'),\n",
       " billboard.ChartEntry(title='Red Light Special', artist='TLC'),\n",
       " billboard.ChartEntry(title='Total Eclipse Of The Heart', artist='Nicki French'),\n",
       " billboard.ChartEntry(title='I Believe', artist='Blessid Union Of Souls'),\n",
       " billboard.ChartEntry(title='Dear Mama/Old School', artist='2Pac')]"
      ]
     },
     "execution_count": 49,
     "metadata": {},
     "output_type": "execute_result"
    }
   ],
   "source": [
    "chart = billboard.ChartData('hot-100', date='1995-05-15')\n",
    "chart[0:10]"
   ]
  },
  {
   "cell_type": "code",
   "execution_count": 42,
   "metadata": {},
   "outputs": [
    {
     "name": "stdout",
     "output_type": "stream",
     "text": [
      "\n",
      "<!DOCTYPE html>\n",
      "<html id=\"app\" lang=\"en\" dir=\"ltr\" ng-csp ng-strict-di>\n",
      "<head>\n",
      "  <meta charset=\"utf-8\">\n",
      "  <title ng-bind=\"(&#39;loginTitle&#39; | localize) + &#39; - Spotify&#39;\">Spotify</title>\n",
      "  <meta name=\"viewport\" content=\"width=device-width, initial-scale=1.0, maximum-scale=1.0, user-scalable=no\">\n",
      "  <base href=\"/\">\n",
      "  <link rel=\"icon\" href=\"https://accounts.scdn.co/sso/images/favicon.ace4d8543bbb017893402a1e9d1ac1fa.ico\">\n",
      "  <link href=\"https://accounts.scdn.co/sso/css/index.d515c2fb3219716b0042.css\" media=\"screen\" rel=\"stylesheet\">\n",
      "\n",
      "  <script defer src=\"https://accounts.scdn.co/sso/js/index.d515c2fb3219716b0042.js\" sp-bootstrap></script>\n",
      "  <meta ng-non-bindable sp-bootstrap-data='{\"phoneFeatureEnabled\":false,\"previewEnabled\":false,\"user\":false,\"tpaState\":\"AQAxU1bCOYNCmCeADATK5nOWGUGzt7qcriWspMnlf5WDPVzOAFbwhmCzO3+0b4TyLE5pc870JnGAxCv7ZJ5wJegAW1ZXHNLFtgadXfGBHeXwI4eQoXX2p+uqaJBXxW9Ze4dm1j7+8AQgz3CxAfceYAR3MJSWWvjicrbssxBuXubkbXnEUFyHztcJRde6+jaXA/zrt0o/TzAQUknVFpKaOLGFEXMFF0GmwshU6/33xuZmuURaNE7FFEXQ28B3/2wFxOmabPTzCyIb+S+MrSAgZ1uxFpbYybJ8Pvi/\",\"BON\":[\"0\",\"0\",1964414020]}'>\n",
      "</head>\n",
      "<body ng-controller=\"LoginController\">\n",
      "  <div ng-include=\"template\"></div>\n",
      "</body>\n",
      "</html>\n",
      "\n"
     ]
    }
   ],
   "source": [
    "client_id = ' 4ea6e458711041f38a00cb6c72d32d8f'\n",
    "\n",
    "url = f'https://accounts.spotify.com/authorize?client_id={client_id}'\n",
    "myobj = {'somekey': 'somevalue'}\n",
    "\n",
    "x = requests.get(url)\n",
    "\n",
    "print(x.text)"
   ]
  },
  {
   "cell_type": "code",
   "execution_count": null,
   "metadata": {},
   "outputs": [],
   "source": []
  },
  {
   "cell_type": "code",
   "execution_count": null,
   "metadata": {},
   "outputs": [],
   "source": []
  }
 ],
 "metadata": {
  "kernelspec": {
   "display_name": "Python 3",
   "language": "python",
   "name": "python3"
  },
  "language_info": {
   "codemirror_mode": {
    "name": "ipython",
    "version": 3
   },
   "file_extension": ".py",
   "mimetype": "text/x-python",
   "name": "python",
   "nbconvert_exporter": "python",
   "pygments_lexer": "ipython3",
   "version": "3.7.4"
  }
 },
 "nbformat": 4,
 "nbformat_minor": 4
}
