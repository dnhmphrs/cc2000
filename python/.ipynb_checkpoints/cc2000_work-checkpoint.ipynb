{
 "cells": [
  {
   "cell_type": "code",
   "execution_count": 3,
   "metadata": {},
   "outputs": [],
   "source": [
    "import billboard\n",
    "import requests\n",
    "from pprint import pprint\n",
    "import re\n",
    "from datetime import datetime, timedelta\n",
    "\n",
    "import spotipy\n",
    "from spotipy.oauth2 import SpotifyClientCredentials"
   ]
  },
  {
   "cell_type": "markdown",
   "metadata": {},
   "source": [
    "## tests"
   ]
  },
  {
   "cell_type": "code",
   "execution_count": 2,
   "metadata": {},
   "outputs": [],
   "source": [
    "date = '1995-05-15'"
   ]
  },
  {
   "cell_type": "code",
   "execution_count": 3,
   "metadata": {},
   "outputs": [
    {
     "data": {
      "text/plain": [
       "[billboard.ChartEntry(title='This Is How We Do It', artist='Montell Jordan'),\n",
       " billboard.ChartEntry(title='Have You Ever Really Loved A Woman?', artist='Bryan Adams'),\n",
       " billboard.ChartEntry(title='Freak Like Me', artist='Adina Howard')]"
      ]
     },
     "execution_count": 3,
     "metadata": {},
     "output_type": "execute_result"
    }
   ],
   "source": [
    "chart = billboard.ChartData('hot-100', date='1995-05-15')\n",
    "chart[0:3]"
   ]
  },
  {
   "cell_type": "code",
   "execution_count": 18,
   "metadata": {},
   "outputs": [
    {
     "name": "stdout",
     "output_type": "stream",
     "text": [
      "{'popularity': 68, 'track': 'spotify:track:6uQKuonTU8VKBz5SHZuQXD'}\n"
     ]
    }
   ],
   "source": [
    "sp = spotipy.Spotify(auth_manager=SpotifyClientCredentials(client_id=\"4ea6e458711041f38a00cb6c72d32d8f\",\n",
    "                                                           client_secret=\"a69b5cccf41c434da8a2d1d3aa839e44\"))\n",
    "\n",
    "results = sp.search(q='This Is How We Do It Montell Jordan', type=\"track\", limit=1)\n",
    "for idx, track in enumerate(results['tracks']['items']):\n",
    "    obj = { 'track':track['uri'], 'popularity':track['popularity'] }\n",
    "    pprint(obj)"
   ]
  },
  {
   "cell_type": "markdown",
   "metadata": {},
   "source": [
    "## work"
   ]
  },
  {
   "cell_type": "code",
   "execution_count": 4,
   "metadata": {},
   "outputs": [],
   "source": [
    "# define spotify auth\n",
    "\n",
    "spotify_auth = {\n",
    "    'client_id':'4ea6e458711041f38a00cb6c72d32d8f',\n",
    "    'client_secret': 'a69b5cccf41c434da8a2d1d3aa839e44'\n",
    "}"
   ]
  },
  {
   "cell_type": "code",
   "execution_count": 5,
   "metadata": {},
   "outputs": [],
   "source": [
    "def get_spotify_track(title, artist, spotify_auth):\n",
    "    '''\n",
    "    a function that takes a track and artist as string arguments\n",
    "    alongside a spotify_auth object with client_id ans client_secret\n",
    "    and returns the spotify track:uri and track:popularity\n",
    "    '''\n",
    "    \n",
    "    sp = spotipy.Spotify(auth_manager=SpotifyClientCredentials(\n",
    "        client_id=spotify_auth['client_id'], \n",
    "        client_secret=spotify_auth['client_secret']\n",
    "    ))\n",
    "    \n",
    "    results = sp.search(q=f'{title} {artist}', type=\"track\", limit=1)\n",
    "    # this loop feels unecessary\n",
    "    for idx, track in enumerate(results['tracks']['items']):\n",
    "        obj = { 'uri':track['uri'], 'popularity':track['popularity'] }\n",
    "        return obj"
   ]
  },
  {
   "cell_type": "code",
   "execution_count": 6,
   "metadata": {},
   "outputs": [],
   "source": [
    "def get_conception_date(date):\n",
    "    '''\n",
    "    a function that takes a date_str yyyy-mm-dd\n",
    "    and returns a date_str yyyy-mm-dd\n",
    "    for the date 270 days prior\n",
    "    '''\n",
    "    \n",
    "    date = datetime.strptime(date, \"%Y-%m-%d\").date()\n",
    "    conception_date = date - timedelta(days=270)\n",
    "    date_str = datetime.strftime(conception_date, \"%Y-%m-%d\")\n",
    "    return date_str"
   ]
  },
  {
   "cell_type": "code",
   "execution_count": 7,
   "metadata": {},
   "outputs": [],
   "source": [
    "def get_conception_date_tracks(date, mixtape_len):\n",
    "    '''\n",
    "    a function to return a cc2000 object for site utlity\n",
    "    \n",
    "    function takes:\n",
    "        - a date_str yyyy-mm-dd\n",
    "        - a mixtape_len\n",
    "        \n",
    "    and returns the indexed billboard top-100 track playing 270 days before the input date\n",
    "    '''\n",
    "    \n",
    "    # validate date\n",
    "    if not re.search(\"\\d\\d\\d\\d-\\d\\d-\\d\\d\", date):\n",
    "        print('incorrect date format')\n",
    "        return\n",
    "    \n",
    "    # get conception date\n",
    "    conception_date = get_conception_date(date)\n",
    "    \n",
    "    # get hot 100 chart for date\n",
    "    try:\n",
    "        chart = billboard.ChartData('hot-100', date=conception_date)\n",
    "        # chart = chart[0:mixtape_len]\n",
    "\n",
    "    except:\n",
    "        print('chart error')\n",
    "        return\n",
    "    \n",
    "    if not chart:\n",
    "        return # return if no chart object\n",
    "    \n",
    "    tracks = []\n",
    "    i = 0\n",
    "    num_tracks = 0\n",
    "    \n",
    "    while num_tracks < mixtape_len:\n",
    "        # print(num_tracks)\n",
    "        try:\n",
    "            track = {}\n",
    "            track['title'] = chart[i].title\n",
    "            track['artist'] = chart[i].artist\n",
    "\n",
    "            track_spotify_data = get_spotify_track(chart[i].title, chart[i].artist, spotify_auth)\n",
    "            track['spotify_uri'] = track_spotify_data['uri']\n",
    "            track['popularity'] = track_spotify_data['popularity']\n",
    "\n",
    "            tracks.append(track)\n",
    "            i+=1\n",
    "            num_tracks += 1\n",
    "            \n",
    "        except:\n",
    "            i+=1\n",
    "            pass # pass if spotify can't find track, still build list of 10/mixtape_len tracks\n",
    "    \n",
    "    return tracks"
   ]
  },
  {
   "cell_type": "code",
   "execution_count": 8,
   "metadata": {},
   "outputs": [],
   "source": [
    "def create_conception_track_day_object(tracks):\n",
    "    '''\n",
    "    takes a list of track objects (artist, popularity, sporitfy_uri, title)\n",
    "    and returns an object with keys relating to populatriy metric (for spicy mettric match)\n",
    "    '''\n",
    "    \n",
    "    if not tracks:\n",
    "        return {'error':'no tracks'}\n",
    "    \n",
    "    sorted_tracks = sorted(tracks, key=lambda x: x['popularity'])\n",
    "    \n",
    "    day_object = {}\n",
    "    i=1\n",
    "    \n",
    "    for item in sorted_tracks:\n",
    "        day_object[i] = item\n",
    "        i += 1\n",
    "    \n",
    "    return day_object"
   ]
  },
  {
   "cell_type": "code",
   "execution_count": 32,
   "metadata": {},
   "outputs": [],
   "source": [
    "def make_day_object(date, mixtape_len):\n",
    "    '''\n",
    "    a function that takes a date and a mixtape length\n",
    "    and returns the ordered cc2000 day object with track and spotify data\n",
    "    tracks are ordered by 1-10 (or mixtape_len) to match cc2000 spicy rank\n",
    "    '''\n",
    "    \n",
    "    tracks = get_conception_date_tracks(date, mixtape_len)\n",
    "    day_object = create_conception_track_day_object(tracks)\n",
    "    \n",
    "    return day_object"
   ]
  },
  {
   "cell_type": "code",
   "execution_count": 29,
   "metadata": {},
   "outputs": [],
   "source": [
    "def make_cc2000_data():\n",
    "    '''\n",
    "    makes the output dictionary for cc2000\n",
    "    starts from current date and works backwards to 1958-08-04\n",
    "    returns object with dates yyyy-mm-dd as keys\n",
    "    '''\n",
    "    \n",
    "    cc2000_data = {}\n",
    "    \n",
    "    end_date_str = '1958-08-04' # this is the day the first billboard hot 100 was released\n",
    "    end_date_str = '2021-12-09' # this is a closer test date\n",
    "    end_date = datetime.strptime(end_date_str, \"%Y-%m-%d\").date()\n",
    "    \n",
    "    date = datetime.today().date()\n",
    "    \n",
    "    while date >= end_date: # end once billboard runs out of data\n",
    "   \n",
    "        print(date)\n",
    "        date_str = datetime.strftime(date, \"%Y-%m-%d\")\n",
    "        day_object = make_day_object(date_str, 10)\n",
    "        \n",
    "        cc2000_data[date_str] = day_object\n",
    "        \n",
    "        # decrease by one day\n",
    "        date -= timedelta(days = 1)\n",
    "    \n",
    "    return cc2000_data"
   ]
  },
  {
   "cell_type": "code",
   "execution_count": 30,
   "metadata": {},
   "outputs": [
    {
     "name": "stdout",
     "output_type": "stream",
     "text": [
      "2021-12-12\n",
      "2021-12-11\n",
      "2021-12-10\n",
      "2021-12-09\n"
     ]
    }
   ],
   "source": [
    "data = make_cc2000_data()"
   ]
  },
  {
   "cell_type": "code",
   "execution_count": 31,
   "metadata": {},
   "outputs": [
    {
     "data": {
      "text/plain": [
       "{'2021-12-12': {1: {'title': 'Save Your Tears',\n",
       "   'artist': 'The Weeknd & Ariana Grande',\n",
       "   'spotify_uri': 'spotify:track:1EGf8RqJ3pGqVzumPYehuH',\n",
       "   'popularity': 14},\n",
       "  2: {'title': \"What's Next\",\n",
       "   'artist': 'Drake',\n",
       "   'spotify_uri': 'spotify:track:3mDFLytDotXo2p0rvfGbkA',\n",
       "   'popularity': 62},\n",
       "  3: {'title': 'Up',\n",
       "   'artist': 'Cardi B',\n",
       "   'spotify_uri': 'spotify:track:1XXimziG1uhM0eDNCZCrUl',\n",
       "   'popularity': 80},\n",
       "  4: {'title': 'Go Crazy',\n",
       "   'artist': 'Chris Brown & Young Thug',\n",
       "   'spotify_uri': 'spotify:track:1IIKrJVP1C9N7iPtG6eOsK',\n",
       "   'popularity': 81},\n",
       "  5: {'title': 'What You Know Bout Love',\n",
       "   'artist': 'Pop Smoke',\n",
       "   'spotify_uri': 'spotify:track:1tkg4EHVoqnhR6iFEXb60y',\n",
       "   'popularity': 85},\n",
       "  6: {'title': 'Levitating',\n",
       "   'artist': 'Dua Lipa',\n",
       "   'spotify_uri': 'spotify:track:5nujrmhLynf4yMoMtj8AQF',\n",
       "   'popularity': 88},\n",
       "  7: {'title': 'Positions',\n",
       "   'artist': 'Ariana Grande',\n",
       "   'spotify_uri': 'spotify:track:35mvY5S1H3J2QZyna3TFe0',\n",
       "   'popularity': 88},\n",
       "  8: {'title': 'Leave The Door Open',\n",
       "   'artist': 'Silk Sonic (Bruno Mars & Anderson .Paak)',\n",
       "   'spotify_uri': 'spotify:track:7MAibcTli4IisCtbHKrGMh',\n",
       "   'popularity': 89},\n",
       "  9: {'title': 'Drivers License',\n",
       "   'artist': 'Olivia Rodrigo',\n",
       "   'spotify_uri': 'spotify:track:5wANPM4fQCJwkGd4rN57mH',\n",
       "   'popularity': 92},\n",
       "  10: {'title': 'Blinding Lights',\n",
       "   'artist': 'The Weeknd',\n",
       "   'spotify_uri': 'spotify:track:0VjIjW4GlUZAMYd2vXMi3b',\n",
       "   'popularity': 93}},\n",
       " '2021-12-11': {1: {'title': 'Save Your Tears',\n",
       "   'artist': 'The Weeknd & Ariana Grande',\n",
       "   'spotify_uri': 'spotify:track:1EGf8RqJ3pGqVzumPYehuH',\n",
       "   'popularity': 14},\n",
       "  2: {'title': \"What's Next\",\n",
       "   'artist': 'Drake',\n",
       "   'spotify_uri': 'spotify:track:3mDFLytDotXo2p0rvfGbkA',\n",
       "   'popularity': 62},\n",
       "  3: {'title': 'Up',\n",
       "   'artist': 'Cardi B',\n",
       "   'spotify_uri': 'spotify:track:1XXimziG1uhM0eDNCZCrUl',\n",
       "   'popularity': 80},\n",
       "  4: {'title': 'Go Crazy',\n",
       "   'artist': 'Chris Brown & Young Thug',\n",
       "   'spotify_uri': 'spotify:track:1IIKrJVP1C9N7iPtG6eOsK',\n",
       "   'popularity': 81},\n",
       "  5: {'title': 'What You Know Bout Love',\n",
       "   'artist': 'Pop Smoke',\n",
       "   'spotify_uri': 'spotify:track:1tkg4EHVoqnhR6iFEXb60y',\n",
       "   'popularity': 85},\n",
       "  6: {'title': 'Levitating',\n",
       "   'artist': 'Dua Lipa',\n",
       "   'spotify_uri': 'spotify:track:5nujrmhLynf4yMoMtj8AQF',\n",
       "   'popularity': 88},\n",
       "  7: {'title': 'Positions',\n",
       "   'artist': 'Ariana Grande',\n",
       "   'spotify_uri': 'spotify:track:35mvY5S1H3J2QZyna3TFe0',\n",
       "   'popularity': 88},\n",
       "  8: {'title': 'Leave The Door Open',\n",
       "   'artist': 'Silk Sonic (Bruno Mars & Anderson .Paak)',\n",
       "   'spotify_uri': 'spotify:track:7MAibcTli4IisCtbHKrGMh',\n",
       "   'popularity': 89},\n",
       "  9: {'title': 'Drivers License',\n",
       "   'artist': 'Olivia Rodrigo',\n",
       "   'spotify_uri': 'spotify:track:5wANPM4fQCJwkGd4rN57mH',\n",
       "   'popularity': 92},\n",
       "  10: {'title': 'Blinding Lights',\n",
       "   'artist': 'The Weeknd',\n",
       "   'spotify_uri': 'spotify:track:0VjIjW4GlUZAMYd2vXMi3b',\n",
       "   'popularity': 93}},\n",
       " '2021-12-10': {1: {'title': 'Save Your Tears',\n",
       "   'artist': 'The Weeknd & Ariana Grande',\n",
       "   'spotify_uri': 'spotify:track:1EGf8RqJ3pGqVzumPYehuH',\n",
       "   'popularity': 14},\n",
       "  2: {'title': \"What's Next\",\n",
       "   'artist': 'Drake',\n",
       "   'spotify_uri': 'spotify:track:3mDFLytDotXo2p0rvfGbkA',\n",
       "   'popularity': 62},\n",
       "  3: {'title': 'Up',\n",
       "   'artist': 'Cardi B',\n",
       "   'spotify_uri': 'spotify:track:1XXimziG1uhM0eDNCZCrUl',\n",
       "   'popularity': 80},\n",
       "  4: {'title': 'Go Crazy',\n",
       "   'artist': 'Chris Brown & Young Thug',\n",
       "   'spotify_uri': 'spotify:track:1IIKrJVP1C9N7iPtG6eOsK',\n",
       "   'popularity': 81},\n",
       "  5: {'title': 'What You Know Bout Love',\n",
       "   'artist': 'Pop Smoke',\n",
       "   'spotify_uri': 'spotify:track:1tkg4EHVoqnhR6iFEXb60y',\n",
       "   'popularity': 85},\n",
       "  6: {'title': 'Levitating',\n",
       "   'artist': 'Dua Lipa',\n",
       "   'spotify_uri': 'spotify:track:5nujrmhLynf4yMoMtj8AQF',\n",
       "   'popularity': 88},\n",
       "  7: {'title': 'Positions',\n",
       "   'artist': 'Ariana Grande',\n",
       "   'spotify_uri': 'spotify:track:35mvY5S1H3J2QZyna3TFe0',\n",
       "   'popularity': 88},\n",
       "  8: {'title': 'Leave The Door Open',\n",
       "   'artist': 'Silk Sonic (Bruno Mars & Anderson .Paak)',\n",
       "   'spotify_uri': 'spotify:track:7MAibcTli4IisCtbHKrGMh',\n",
       "   'popularity': 89},\n",
       "  9: {'title': 'Drivers License',\n",
       "   'artist': 'Olivia Rodrigo',\n",
       "   'spotify_uri': 'spotify:track:5wANPM4fQCJwkGd4rN57mH',\n",
       "   'popularity': 92},\n",
       "  10: {'title': 'Blinding Lights',\n",
       "   'artist': 'The Weeknd',\n",
       "   'spotify_uri': 'spotify:track:0VjIjW4GlUZAMYd2vXMi3b',\n",
       "   'popularity': 93}},\n",
       " '2021-12-09': {1: {'title': 'Save Your Tears',\n",
       "   'artist': 'The Weeknd & Ariana Grande',\n",
       "   'spotify_uri': 'spotify:track:1EGf8RqJ3pGqVzumPYehuH',\n",
       "   'popularity': 14},\n",
       "  2: {'title': \"What's Next\",\n",
       "   'artist': 'Drake',\n",
       "   'spotify_uri': 'spotify:track:3mDFLytDotXo2p0rvfGbkA',\n",
       "   'popularity': 62},\n",
       "  3: {'title': 'Up',\n",
       "   'artist': 'Cardi B',\n",
       "   'spotify_uri': 'spotify:track:1XXimziG1uhM0eDNCZCrUl',\n",
       "   'popularity': 80},\n",
       "  4: {'title': 'Go Crazy',\n",
       "   'artist': 'Chris Brown & Young Thug',\n",
       "   'spotify_uri': 'spotify:track:1IIKrJVP1C9N7iPtG6eOsK',\n",
       "   'popularity': 81},\n",
       "  5: {'title': 'What You Know Bout Love',\n",
       "   'artist': 'Pop Smoke',\n",
       "   'spotify_uri': 'spotify:track:1tkg4EHVoqnhR6iFEXb60y',\n",
       "   'popularity': 85},\n",
       "  6: {'title': 'Levitating',\n",
       "   'artist': 'Dua Lipa',\n",
       "   'spotify_uri': 'spotify:track:5nujrmhLynf4yMoMtj8AQF',\n",
       "   'popularity': 88},\n",
       "  7: {'title': 'Positions',\n",
       "   'artist': 'Ariana Grande',\n",
       "   'spotify_uri': 'spotify:track:35mvY5S1H3J2QZyna3TFe0',\n",
       "   'popularity': 88},\n",
       "  8: {'title': 'Leave The Door Open',\n",
       "   'artist': 'Silk Sonic (Bruno Mars & Anderson .Paak)',\n",
       "   'spotify_uri': 'spotify:track:7MAibcTli4IisCtbHKrGMh',\n",
       "   'popularity': 89},\n",
       "  9: {'title': 'Drivers License',\n",
       "   'artist': 'Olivia Rodrigo',\n",
       "   'spotify_uri': 'spotify:track:5wANPM4fQCJwkGd4rN57mH',\n",
       "   'popularity': 92},\n",
       "  10: {'title': 'Blinding Lights',\n",
       "   'artist': 'The Weeknd',\n",
       "   'spotify_uri': 'spotify:track:0VjIjW4GlUZAMYd2vXMi3b',\n",
       "   'popularity': 93}}}"
      ]
     },
     "execution_count": 31,
     "metadata": {},
     "output_type": "execute_result"
    }
   ],
   "source": [
    "data"
   ]
  },
  {
   "cell_type": "code",
   "execution_count": null,
   "metadata": {},
   "outputs": [],
   "source": []
  }
 ],
 "metadata": {
  "kernelspec": {
   "display_name": "Python 3 (ipykernel)",
   "language": "python",
   "name": "python3"
  },
  "language_info": {
   "codemirror_mode": {
    "name": "ipython",
    "version": 3
   },
   "file_extension": ".py",
   "mimetype": "text/x-python",
   "name": "python",
   "nbconvert_exporter": "python",
   "pygments_lexer": "ipython3",
   "version": "3.10.1"
  }
 },
 "nbformat": 4,
 "nbformat_minor": 4
}
