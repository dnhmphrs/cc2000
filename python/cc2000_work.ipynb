{
 "cells": [
  {
   "cell_type": "code",
   "execution_count": 1,
   "metadata": {},
   "outputs": [],
   "source": [
    "import billboard\n",
    "import requests\n",
    "from pprint import pprint\n",
    "import re\n",
    "from datetime import datetime, timedelta\n",
    "import pickle\n",
    "\n",
    "import spotipy\n",
    "from spotipy.oauth2 import SpotifyClientCredentials"
   ]
  },
  {
   "cell_type": "markdown",
   "metadata": {},
   "source": [
    "## tests"
   ]
  },
  {
   "cell_type": "code",
   "execution_count": 6,
   "metadata": {},
   "outputs": [],
   "source": [
    "date = '1995-05-15'"
   ]
  },
  {
   "cell_type": "code",
   "execution_count": 7,
   "metadata": {},
   "outputs": [
    {
     "data": {
      "text/plain": [
       "[billboard.ChartEntry(title='Old Town Road', artist='Lil Nas X Featuring Billy Ray Cyrus'),\n",
       " billboard.ChartEntry(title='Sunflower (Spider-Man: Into The Spider-Verse)', artist='Post Malone & Swae Lee'),\n",
       " billboard.ChartEntry(title='7 Rings', artist='Ariana Grande'),\n",
       " billboard.ChartEntry(title='Wow.', artist='Post Malone'),\n",
       " billboard.ChartEntry(title='Without Me', artist='Halsey'),\n",
       " billboard.ChartEntry(title='Please Me', artist='Cardi B & Bruno Mars'),\n",
       " billboard.ChartEntry(title='Bad Guy', artist='Billie Eilish'),\n",
       " billboard.ChartEntry(title='Sucker', artist='Jonas Brothers'),\n",
       " billboard.ChartEntry(title='Happier', artist='Marshmello & Bastille'),\n",
       " billboard.ChartEntry(title='Middle Child', artist='J. Cole')]"
      ]
     },
     "execution_count": 7,
     "metadata": {},
     "output_type": "execute_result"
    }
   ],
   "source": [
    "chart = billboard.ChartData('hot-100', date='2019-04-07')\n",
    "chart[0:10]"
   ]
  },
  {
   "cell_type": "code",
   "execution_count": 8,
   "metadata": {},
   "outputs": [
    {
     "name": "stdout",
     "output_type": "stream",
     "text": [
      "{'popularity': 80, 'track': 'spotify:track:0wHFktze2PHC5jDt3B17DC'}\n"
     ]
    }
   ],
   "source": [
    "sp = spotipy.Spotify(auth_manager=SpotifyClientCredentials(client_id=\"4ea6e458711041f38a00cb6c72d32d8f\",\n",
    "                                                           client_secret=\"a69b5cccf41c434da8a2d1d3aa839e44\"))\n",
    "\n",
    "results = sp.search(q='First Class Jack Harlow', type=\"track\", limit=1)\n",
    "for idx, track in enumerate(results['tracks']['items']):\n",
    "    obj = { 'track':track['uri'], 'popularity':track['popularity'] }\n",
    "    pprint(obj)"
   ]
  },
  {
   "cell_type": "code",
   "execution_count": 9,
   "metadata": {},
   "outputs": [],
   "source": [
    "def get_conception_date(date):\n",
    "    '''\n",
    "    a function that takes a date_str yyyy-mm-dd\n",
    "    and returns a date_str yyyy-mm-dd\n",
    "    for the date 270 days prior\n",
    "    '''\n",
    "    \n",
    "    date = datetime.strptime(date, \"%Y-%m-%d\").date()\n",
    "    conception_date = date - timedelta(days=270)\n",
    "    date_str = datetime.strftime(conception_date, \"%Y-%m-%d\")\n",
    "    return date_str"
   ]
  },
  {
   "cell_type": "markdown",
   "metadata": {},
   "source": [
    "## work"
   ]
  },
  {
   "cell_type": "code",
   "execution_count": 10,
   "metadata": {},
   "outputs": [],
   "source": [
    "# define spotify auth\n",
    "\n",
    "spotify_auth = {\n",
    "    'client_id':'4ea6e458711041f38a00cb6c72d32d8f',\n",
    "    'client_secret': 'a69b5cccf41c434da8a2d1d3aa839e44'\n",
    "}"
   ]
  },
  {
   "cell_type": "code",
   "execution_count": 11,
   "metadata": {},
   "outputs": [],
   "source": [
    "def get_spotify_track(title, artist, spotify_auth):\n",
    "    '''\n",
    "    a function that takes a track and artist as string arguments\n",
    "    alongside a spotify_auth object with client_id ans client_secret\n",
    "    and returns the spotify track:uri and track:popularity\n",
    "    '''\n",
    "    \n",
    "    sp = spotipy.Spotify(auth_manager=SpotifyClientCredentials(\n",
    "        client_id=spotify_auth['client_id'], \n",
    "        client_secret=spotify_auth['client_secret']\n",
    "    ))\n",
    "    \n",
    "    results = sp.search(q=f'{title} {artist}', type=\"track\", limit=1)\n",
    "    # this loop feels unecessary\n",
    "    for idx, track in enumerate(results['tracks']['items']):\n",
    "        obj = { 'uri':track['uri'], 'popularity':track['popularity'] }\n",
    "        return obj"
   ]
  },
  {
   "cell_type": "code",
   "execution_count": 12,
   "metadata": {},
   "outputs": [],
   "source": [
    "def get_date_tracks(date, mixtape_len):\n",
    "    '''\n",
    "    a function to return a cc2000 object for site utlity\n",
    "    \n",
    "    function takes:\n",
    "        - a date_str yyyy-mm-dd\n",
    "        - a mixtape_len\n",
    "        \n",
    "    and returns the indexed billboard top-100 track playing 270 days before the input date\n",
    "    '''\n",
    "    \n",
    "    # validate date\n",
    "    if not re.search(\"\\d\\d\\d\\d-\\d\\d-\\d\\d\", date):\n",
    "        print('incorrect date format')\n",
    "        return\n",
    "    \n",
    "    # get conception date\n",
    "    # conception_date = get_conception_date(date)\n",
    "    # date = conception_date\n",
    "    \n",
    "    \n",
    "    # get hot 100 chart for date\n",
    "    try:\n",
    "        chart = billboard.ChartData('hot-100', date=date)\n",
    "        # chart = chart[0:mixtape_len]\n",
    "\n",
    "    except:\n",
    "        print('chart error')\n",
    "        return\n",
    "    \n",
    "    if not chart:\n",
    "        return # return if no chart object\n",
    "    \n",
    "    tracks = []\n",
    "    i = 0\n",
    "    spicy = mixtape_len\n",
    "    num_tracks = 0\n",
    "    \n",
    "    while num_tracks < mixtape_len:\n",
    "        # print(num_tracks)\n",
    "        try:\n",
    "            track = {}\n",
    "            track['title'] = chart[i].title\n",
    "            track['artist'] = chart[i].artist\n",
    "            track['spicy'] = spicy\n",
    "\n",
    "            track_spotify_data = get_spotify_track(chart[i].title, chart[i].artist, spotify_auth)\n",
    "            track['spotify_uri'] = track_spotify_data['uri']\n",
    "            track['popularity'] = track_spotify_data['popularity']\n",
    "\n",
    "            tracks.append(track)\n",
    "            i+=1\n",
    "            spicy -= 1\n",
    "            num_tracks += 1\n",
    "            \n",
    "        except:\n",
    "            i+=1\n",
    "            pass # pass if spotify can't find track, still build list of 10/mixtape_len tracks\n",
    "    \n",
    "    return tracks"
   ]
  },
  {
   "cell_type": "code",
   "execution_count": 13,
   "metadata": {},
   "outputs": [],
   "source": [
    "def make_day_object(date, mixtape_len):\n",
    "    '''\n",
    "    a function that takes a date and a mixtape length\n",
    "    and returns the ordered cc2000 day object with track and spotify data\n",
    "    tracks are ordered by 1-10 (or mixtape_len) to match cc2000 spicy rank\n",
    "    '''\n",
    "    \n",
    "    tracks = get_date_tracks(date, mixtape_len)\n",
    "    # day_object = create_conception_track_day_object(tracks)\n",
    "    \n",
    "    return tracks"
   ]
  },
  {
   "cell_type": "code",
   "execution_count": 76,
   "metadata": {},
   "outputs": [],
   "source": [
    "def make_cc2000_data():\n",
    "    '''\n",
    "    makes the output dictionary for cc2000\n",
    "    starts from current date and works backwards to 1958-08-04\n",
    "    returns object with dates yyyy-mm-dd as keys\n",
    "    '''\n",
    "    \n",
    "    cc2000_data = {}\n",
    "    \n",
    "    # end_date_str = '1958-08-04' # this is the day the first billboard hot 100 was released\n",
    "    # end_date_str = '2022-02-24' # this is a closer test date\n",
    "    \n",
    "    end_date_str = '1958-06-01'\n",
    "    \n",
    "    end_date = datetime.strptime(end_date_str, \"%Y-%m-%d\").date()\n",
    "    \n",
    "    # date = datetime.today().date()\n",
    "    \n",
    "    date = datetime.strptime('1959-12-27', \"%Y-%m-%d\").date()\n",
    "    \n",
    "    while date >= end_date: # end once billboard runs out of data\n",
    "        \n",
    "        try:\n",
    "   \n",
    "            date_str = datetime.strftime(date, \"%Y-%m-%d\")\n",
    "            day_object = make_day_object(date_str, 10)\n",
    "\n",
    "        except:\n",
    "            day_object = null\n",
    "        \n",
    "        cc2000_data[date_str] = day_object\n",
    "        \n",
    "        try:\n",
    "            print(date, day_object[0]['title'], day_object[0]['artist'])\n",
    "        except:\n",
    "            print(date, 'no data today')\n",
    "        \n",
    "        # decrease by one day\n",
    "        date -= timedelta(days = 7)\n",
    "    \n",
    "    return cc2000_data"
   ]
  },
  {
   "cell_type": "code",
   "execution_count": 77,
   "metadata": {},
   "outputs": [
    {
     "name": "stdout",
     "output_type": "stream",
     "text": [
      "1959-12-27 Why Frankie Avalon\n",
      "1959-12-20 Heartaches By The Number Guy Mitchell\n",
      "1959-12-13 Heartaches By The Number Guy Mitchell\n",
      "1959-12-06 Mack The Knife Bobby Darin\n",
      "1959-11-29 Mack The Knife Bobby Darin\n",
      "1959-11-22 Mack The Knife Bobby Darin\n",
      "1959-11-15 Mr. Blue The Fleetwoods\n",
      "1959-11-08 Mack The Knife Bobby Darin\n",
      "1959-11-01 Mack The Knife Bobby Darin\n",
      "1959-10-25 Mack The Knife Bobby Darin\n",
      "1959-10-18 Mack The Knife Bobby Darin\n",
      "1959-10-11 Mack The Knife Bobby Darin\n",
      "1959-10-04 Mack The Knife Bobby Darin\n",
      "1959-09-27 Sleep Walk Santo & Johnny\n",
      "1959-09-20 Sleep Walk Santo & Johnny\n",
      "1959-09-13 The Three Bells The Browns\n",
      "1959-09-06 The Three Bells The Browns\n",
      "1959-08-30 The Three Bells The Browns\n",
      "1959-08-23 The Three Bells The Browns\n",
      "1959-08-16 A Big Hunk O' Love Elvis Presley With The Jordanaires\n",
      "1959-08-09 A Big Hunk O' Love Elvis Presley With The Jordanaires\n",
      "1959-08-02 Lonely Boy Paul Anka\n",
      "1959-07-26 Lonely Boy Paul Anka\n",
      "1959-07-19 Lonely Boy Paul Anka\n",
      "1959-07-12 Lonely Boy Paul Anka\n",
      "1959-07-05 The Battle Of New Orleans Johnny Horton\n",
      "1959-06-28 The Battle Of New Orleans Johnny Horton\n",
      "1959-06-21 The Battle Of New Orleans Johnny Horton\n",
      "1959-06-14 The Battle Of New Orleans Johnny Horton\n",
      "1959-06-07 The Battle Of New Orleans Johnny Horton\n",
      "1959-05-31 The Battle Of New Orleans Johnny Horton\n",
      "1959-05-24 Kansas City Wilbert Harrison\n",
      "1959-05-17 Kansas City Wilbert Harrison\n",
      "1959-05-10 The Happy Organ Dave \"Baby\" Cortez\n",
      "1959-05-03 Come Softly To Me The Fleetwoods\n",
      "1959-04-26 Come Softly To Me The Fleetwoods\n",
      "1959-04-19 Come Softly To Me The Fleetwoods\n",
      "1959-04-12 Come Softly To Me The Fleetwoods\n",
      "1959-04-05 Venus Frankie Avalon\n",
      "1959-03-29 Venus Frankie Avalon\n",
      "1959-03-22 Venus Frankie Avalon\n",
      "1959-03-15 Venus Frankie Avalon\n",
      "1959-03-08 Venus Frankie Avalon\n",
      "1959-03-01 Stagger Lee Lloyd Price\n",
      "1959-02-22 Stagger Lee Lloyd Price\n",
      "1959-02-15 Stagger Lee Lloyd Price\n",
      "1959-02-08 Stagger Lee Lloyd Price\n",
      "1959-02-01 Smoke Gets In Your Eyes The Platters\n",
      "1959-01-25 Smoke Gets In Your Eyes The Platters\n",
      "1959-01-18 Smoke Gets In Your Eyes The Platters\n",
      "1959-01-11 The Chipmunk Song The Chipmunks With David Seville\n",
      "1959-01-04 The Chipmunk Song The Chipmunks With David Seville\n",
      "1958-12-28 The Chipmunk Song The Chipmunks With David Seville\n",
      "1958-12-21 The Chipmunk Song The Chipmunks With David Seville\n",
      "1958-12-14 To Know Him, Is To Love Him The Teddy Bears\n",
      "1958-12-07 To Know Him, Is To Love Him The Teddy Bears\n",
      "1958-11-30 To Know Him, Is To Love Him The Teddy Bears\n",
      "1958-11-23 It's Only Make Believe Conway Twitty\n",
      "1958-11-16 Tom Dooley The Kingston Trio\n",
      "1958-11-09 It's Only Make Believe Conway Twitty\n",
      "1958-11-02 It's All In The Game Tommy Edwards\n",
      "1958-10-26 It's All In The Game Tommy Edwards\n",
      "1958-10-19 It's All In The Game Tommy Edwards\n",
      "1958-10-12 It's All In The Game Tommy Edwards\n",
      "1958-10-05 It's All In The Game Tommy Edwards\n",
      "1958-09-28 It's All In The Game Tommy Edwards\n",
      "1958-09-21 Nel Blu Dipinto Di Blu (Volare) Domenico Modugno\n",
      "1958-09-14 Nel Blu Dipinto Di Blu (Volare) Domenico Modugno\n",
      "1958-09-07 Nel Blu Dipinto Di Blu (Volare) Domenico Modugno\n",
      "1958-08-31 Nel Blu Dipinto Di Blu (Volare) Domenico Modugno\n",
      "1958-08-24 Little Star The Elegants\n",
      "1958-08-17 Nel Blu Dipinto Di Blu (Volare) Domenico Modugno\n",
      "1958-08-10 Poor Little Fool Ricky Nelson\n",
      "1958-08-03 Poor Little Fool Ricky Nelson\n",
      "1958-07-27 Poor Little Fool Ricky Nelson\n",
      "1958-07-20 Poor Little Fool Ricky Nelson\n",
      "1958-07-13 Poor Little Fool Ricky Nelson\n",
      "1958-07-06 Poor Little Fool Ricky Nelson\n",
      "1958-06-29 Poor Little Fool Ricky Nelson\n",
      "1958-06-22 Poor Little Fool Ricky Nelson\n",
      "1958-06-15 Poor Little Fool Ricky Nelson\n",
      "1958-06-08 Poor Little Fool Ricky Nelson\n",
      "1958-06-01 Poor Little Fool Ricky Nelson\n"
     ]
    }
   ],
   "source": [
    "data = make_cc2000_data()"
   ]
  },
  {
   "cell_type": "code",
   "execution_count": 78,
   "metadata": {},
   "outputs": [],
   "source": [
    "pickle_out = open(\"billboard_1958-1959.pkl\",\"wb\")\n",
    "pickle.dump(data, pickle_out)\n",
    "pickle_out.close()"
   ]
  },
  {
   "cell_type": "code",
   "execution_count": 79,
   "metadata": {},
   "outputs": [],
   "source": [
    "with open('billboard_2022+.pkl', 'rb') as f:\n",
    "    a = pickle.load(f)\n",
    "\n",
    "with open('billboard_2011+.pkl', 'rb') as f:\n",
    "    b = pickle.load(f)\n",
    "\n",
    "with open('billboard_2000-2010.pkl', 'rb') as f:\n",
    "    c = pickle.load(f)\n",
    "    \n",
    "with open('billboard_1980-1999.pkl', 'rb') as f:\n",
    "    d = pickle.load(f)\n",
    "    \n",
    "with open('billboard_1960-1979.pkl', 'rb') as f:\n",
    "    e = pickle.load(f)\n",
    "    \n",
    "with open('billboard_1958-1959.pkl', 'rb') as f:\n",
    "    f = pickle.load(f)"
   ]
  },
  {
   "cell_type": "code",
   "execution_count": 80,
   "metadata": {},
   "outputs": [],
   "source": [
    "cc2000_data = a | b | c | d | e | f"
   ]
  },
  {
   "cell_type": "code",
   "execution_count": 81,
   "metadata": {},
   "outputs": [
    {
     "data": {
      "text/plain": [
       "3380"
      ]
     },
     "execution_count": 81,
     "metadata": {},
     "output_type": "execute_result"
    }
   ],
   "source": [
    "len(cc2000_data)"
   ]
  },
  {
   "cell_type": "code",
   "execution_count": 84,
   "metadata": {},
   "outputs": [],
   "source": [
    "def find_missing_tracks(cc2000_data):\n",
    "    '''\n",
    "    starts with the output of all collected tracks (expects once per week, sundays)\n",
    "    returns an array of all weeks that are missed, or smth similar\n",
    "    '''\n",
    "    \n",
    "    missing_dates = []\n",
    "    \n",
    "    end_date_str = '1958-06-01'\n",
    "    end_date = datetime.strptime(end_date_str, \"%Y-%m-%d\").date()\n",
    "    \n",
    "    # date = datetime.today().date()\n",
    "    date = datetime.strptime('2023-03-05', \"%Y-%m-%d\").date()\n",
    "    \n",
    "    while date >= end_date: # end once billboard runs out of data\n",
    "   \n",
    "        date_str = datetime.strftime(date, \"%Y-%m-%d\")\n",
    "        \n",
    "        if not cc2000_data[date_str]:\n",
    "            print(date_str)\n",
    "            missing_dates.append(date_str)\n",
    "        \n",
    "        # decrease by one day\n",
    "        date -= timedelta(days = 7)\n",
    "    \n",
    "    return missing_dates"
   ]
  },
  {
   "cell_type": "code",
   "execution_count": 85,
   "metadata": {},
   "outputs": [],
   "source": [
    "missing_dates = find_missing_tracks(cc2000_data)"
   ]
  },
  {
   "cell_type": "code",
   "execution_count": 86,
   "metadata": {},
   "outputs": [
    {
     "data": {
      "text/plain": [
       "[]"
      ]
     },
     "execution_count": 86,
     "metadata": {},
     "output_type": "execute_result"
    }
   ],
   "source": [
    "missing_dates"
   ]
  },
  {
   "cell_type": "code",
   "execution_count": 69,
   "metadata": {},
   "outputs": [],
   "source": [
    "cc2000_data['1958-01-12']"
   ]
  },
  {
   "cell_type": "code",
   "execution_count": 92,
   "metadata": {},
   "outputs": [
    {
     "data": {
      "text/plain": [
       "147552"
      ]
     },
     "execution_count": 92,
     "metadata": {},
     "output_type": "execute_result"
    }
   ],
   "source": [
    "import sys\n",
    "sys.getsizeof(cc2000_data)"
   ]
  },
  {
   "cell_type": "code",
   "execution_count": 93,
   "metadata": {},
   "outputs": [],
   "source": [
    "import json\n",
    "with open('cc2000_data.json', 'w') as f:\n",
    "    json.dump(cc2000_data, f)"
   ]
  },
  {
   "cell_type": "code",
   "execution_count": null,
   "metadata": {},
   "outputs": [],
   "source": []
  }
 ],
 "metadata": {
  "kernelspec": {
   "display_name": "Python 3 (ipykernel)",
   "language": "python",
   "name": "python3"
  },
  "language_info": {
   "codemirror_mode": {
    "name": "ipython",
    "version": 3
   },
   "file_extension": ".py",
   "mimetype": "text/x-python",
   "name": "python",
   "nbconvert_exporter": "python",
   "pygments_lexer": "ipython3",
   "version": "3.10.1"
  }
 },
 "nbformat": 4,
 "nbformat_minor": 4
}
