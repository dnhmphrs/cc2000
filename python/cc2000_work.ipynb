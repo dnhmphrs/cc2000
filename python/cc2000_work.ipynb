{
 "cells": [
  {
   "cell_type": "code",
   "execution_count": 71,
   "metadata": {},
   "outputs": [],
   "source": [
    "import billboard\n",
    "import requests\n",
    "from pprint import pprint\n",
    "import re\n",
    "from datetime import datetime, timedelta"
   ]
  },
  {
   "cell_type": "code",
   "execution_count": 69,
   "metadata": {},
   "outputs": [],
   "source": [
    "date = '1995-05-15'"
   ]
  },
  {
   "cell_type": "code",
   "execution_count": 28,
   "metadata": {},
   "outputs": [
    {
     "data": {
      "text/plain": [
       "[billboard.ChartEntry(title='This Is How We Do It', artist='Montell Jordan'),\n",
       " billboard.ChartEntry(title='Have You Ever Really Loved A Woman?', artist='Bryan Adams'),\n",
       " billboard.ChartEntry(title='Freak Like Me', artist='Adina Howard')]"
      ]
     },
     "execution_count": 28,
     "metadata": {},
     "output_type": "execute_result"
    }
   ],
   "source": [
    "chart = billboard.ChartData('hot-100', date='1995-05-15')\n",
    "chart[0:3]"
   ]
  },
  {
   "cell_type": "code",
   "execution_count": 27,
   "metadata": {},
   "outputs": [
    {
     "name": "stdout",
     "output_type": "stream",
     "text": [
      "'spotify:track:6uQKuonTU8VKBz5SHZuQXD'\n"
     ]
    }
   ],
   "source": [
    "import spotipy\n",
    "from spotipy.oauth2 import SpotifyClientCredentials\n",
    "\n",
    "sp = spotipy.Spotify(auth_manager=SpotifyClientCredentials(client_id=\"4ea6e458711041f38a00cb6c72d32d8f\",\n",
    "                                                           client_secret=\"a69b5cccf41c434da8a2d1d3aa839e44\"))\n",
    "\n",
    "results = sp.search(q='This Is How We Do It Montell Jordan', type=\"track\", limit=1)\n",
    "for idx, track in enumerate(results['tracks']['items']):\n",
    "    pprint(track['uri'])"
   ]
  },
  {
   "cell_type": "code",
   "execution_count": 103,
   "metadata": {},
   "outputs": [],
   "source": [
    "def get_conception_date(date):\n",
    "    '''\n",
    "    a function that takes a date_str yyyy-mm-dd\n",
    "    and returns a date_str yyyy-mm-dd\n",
    "    for the date 270 days prior\n",
    "    '''\n",
    "    \n",
    "    date = datetime.strptime(date, \"%Y-%m-%d\").date()\n",
    "    conception_date = date - timedelta(days=270)\n",
    "    date_str = datetime.strftime(conception_date, \"%Y-%m-%d\")\n",
    "    return date_str"
   ]
  },
  {
   "cell_type": "code",
   "execution_count": 105,
   "metadata": {},
   "outputs": [],
   "source": [
    "def calculate_conception_track(date, mixtape_len, seed):\n",
    "    '''\n",
    "    a function to return a cc2000 object for site utlity\n",
    "    \n",
    "    function takes:\n",
    "        - a date_str yyyy-mm-dd\n",
    "        - a mixtape_len\n",
    "        - a seed_index\n",
    "        \n",
    "    and returns the indexed billboard top-100 track playing 270 days before the input date\n",
    "    '''\n",
    "    \n",
    "    # validate date\n",
    "    if not re.search(\"\\d\\d\\d\\d-\\d\\d-\\d\\d\", date):\n",
    "        print('incorrect date format')\n",
    "        return\n",
    "    \n",
    "    if mixtape_len <= seed:\n",
    "        print('seed outside range')\n",
    "        return\n",
    "    \n",
    "    # get conception date\n",
    "    conception_date = get_conception_date(date)\n",
    "    \n",
    "    # get hot 100 chart for date\n",
    "    try:\n",
    "        chart = billboard.ChartData('hot-100', date=conception_date)\n",
    "        chart = chart[0:mixtape_len]\n",
    "\n",
    "    except:\n",
    "        print('chart error')\n",
    "        return\n",
    "    \n",
    "    track = chart[seed]\n",
    "    \n",
    "    return_object = {\n",
    "        'date' : date,\n",
    "        'conception_date' : conception_date,\n",
    "        'track' : track,\n",
    "        'chart' : chart,\n",
    "        'seed' : seed,\n",
    "        'mixtape_length': mixtape_len\n",
    "    }\n",
    "    \n",
    "    return return_object"
   ]
  },
  {
   "cell_type": "code",
   "execution_count": 107,
   "metadata": {},
   "outputs": [
    {
     "name": "stdout",
     "output_type": "stream",
     "text": [
      "{'chart': [billboard.ChartEntry(title='This Is How We Do It', artist='Montell Jordan'),\n",
      "           billboard.ChartEntry(title='Have You Ever Really Loved A Woman?', artist='Bryan Adams'),\n",
      "           billboard.ChartEntry(title='Freak Like Me', artist='Adina Howard'),\n",
      "           billboard.ChartEntry(title=\"I'll Be There For You/You're All I Need To Get By\", artist='Method Man Featuring Mary J. Blige'),\n",
      "           billboard.ChartEntry(title='I Know', artist='Dionne Farris'),\n",
      "           billboard.ChartEntry(title='Water Runs Dry', artist='Boyz II Men'),\n",
      "           billboard.ChartEntry(title='Red Light Special', artist='TLC'),\n",
      "           billboard.ChartEntry(title='Total Eclipse Of The Heart', artist='Nicki French'),\n",
      "           billboard.ChartEntry(title='I Believe', artist='Blessid Union Of Souls'),\n",
      "           billboard.ChartEntry(title='Dear Mama/Old School', artist='2Pac')],\n",
      " 'conception_date': '1995-05-19',\n",
      " 'date': '1996-02-13',\n",
      " 'mixtape_length': 10,\n",
      " 'seed': 0,\n",
      " 'track': billboard.ChartEntry(title='This Is How We Do It', artist='Montell Jordan')}\n"
     ]
    }
   ],
   "source": [
    "track = calculate_conception_track('1996-02-13', 10, 0)\n",
    "pprint(track)"
   ]
  },
  {
   "cell_type": "markdown",
   "metadata": {},
   "source": [
    "## thoughts\n",
    " * morning/afternoon/evening only gives up a seed of 3, could only return top 3 tracks consistently\n",
    " * how do we use all top 10 tracks ?\n",
    " * use spotify audio_features instead ?\n",
    " * slider: 'how good are you at dancing?'\n",
    " \n",
    " * normalize list by danceability then index into list using slider index\n",
    " \n",
    " * then use spotify danceability audio_feature\n",
    "\n",
    " * could filter track to prevent massive repetion when one song spends a long time at no.1\n",
    " \n",
    " * 'getting it on' mixtape ?"
   ]
  },
  {
   "cell_type": "code",
   "execution_count": null,
   "metadata": {},
   "outputs": [],
   "source": []
  }
 ],
 "metadata": {
  "kernelspec": {
   "display_name": "Python 3",
   "language": "python",
   "name": "python3"
  },
  "language_info": {
   "codemirror_mode": {
    "name": "ipython",
    "version": 3
   },
   "file_extension": ".py",
   "mimetype": "text/x-python",
   "name": "python",
   "nbconvert_exporter": "python",
   "pygments_lexer": "ipython3",
   "version": "3.7.4"
  }
 },
 "nbformat": 4,
 "nbformat_minor": 4
}
